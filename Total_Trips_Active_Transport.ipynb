{
  "nbformat": 4,
  "nbformat_minor": 0,
  "metadata": {
    "colab": {
      "provenance": [],
      "mount_file_id": "1tUXpOssJfVbm1P6vwiOl8No0XcxjyUHj",
      "authorship_tag": "ABX9TyNFQEBiGy1dLqSNWJ4EuUEi",
      "include_colab_link": true
    },
    "kernelspec": {
      "name": "python3",
      "display_name": "Python 3"
    },
    "language_info": {
      "name": "python"
    }
  },
  "cells": [
    {
      "cell_type": "markdown",
      "metadata": {
        "id": "view-in-github",
        "colab_type": "text"
      },
      "source": [
        "<a href=\"https://colab.research.google.com/github/atifanindarahman/OD_X-Minute-City/blob/main/Total_Trips_Active_Transport.ipynb\" target=\"_parent\"><img src=\"https://colab.research.google.com/assets/colab-badge.svg\" alt=\"Open In Colab\"/></a>"
      ]
    },
    {
      "cell_type": "code",
      "execution_count": 1,
      "metadata": {
        "id": "HGxqvAsHhZ2q"
      },
      "outputs": [],
      "source": [
        "import pandas as pd"
      ]
    },
    {
      "cell_type": "code",
      "source": [
        "file_path = \"/content/drive/MyDrive/2022_Passenger_OD_Annual_Data_all.csv\""
      ],
      "metadata": {
        "id": "2aIUjJjEiBHH"
      },
      "execution_count": 2,
      "outputs": []
    },
    {
      "cell_type": "code",
      "source": [
        "data = pd.read_csv(file_path)"
      ],
      "metadata": {
        "id": "orxQxVl8iEuZ"
      },
      "execution_count": 3,
      "outputs": []
    },
    {
      "cell_type": "code",
      "source": [
        "within_trips = data[data['origin_zone_name'] == data['destination_zone_name']]"
      ],
      "metadata": {
        "id": "pnw4rEVqiGYP"
      },
      "execution_count": 4,
      "outputs": []
    },
    {
      "cell_type": "code",
      "source": [
        "c= within_trips.groupby('origin_zone_name')['mode_atf'].sum()"
      ],
      "metadata": {
        "id": "sUcdDWWUiLwb"
      },
      "execution_count": 5,
      "outputs": []
    },
    {
      "cell_type": "code",
      "source": [
        "entry_exit_trips = data[data['origin_zone_name'] != data['destination_zone_name']]"
      ],
      "metadata": {
        "id": "eWugmuLuiSJC"
      },
      "execution_count": 6,
      "outputs": []
    },
    {
      "cell_type": "code",
      "source": [
        "a = entry_exit_trips.groupby('destination_zone_name')['mode_atf'].sum()\n",
        "b = entry_exit_trips.groupby('origin_zone_name')['mode_atf'].sum()"
      ],
      "metadata": {
        "id": "FOtjq1kniUUI"
      },
      "execution_count": 7,
      "outputs": []
    },
    {
      "cell_type": "code",
      "source": [
        "d=a+b+c"
      ],
      "metadata": {
        "id": "S4uYrsf9iYcy"
      },
      "execution_count": 8,
      "outputs": []
    },
    {
      "cell_type": "code",
      "source": [
        "data = pd.concat([a,b,c,d], axis=1, keys=('Entering','Leaving','Within','Total Trips Active Transport')).rename_axis('Zone').reset_index()"
      ],
      "metadata": {
        "id": "Q-3xk48PibJL"
      },
      "execution_count": 11,
      "outputs": []
    },
    {
      "cell_type": "code",
      "source": [
        "print (data)"
      ],
      "metadata": {
        "colab": {
          "base_uri": "https://localhost:8080/"
        },
        "id": "IqgYMDJRiihG",
        "outputId": "24a45b99-278d-4105-d5a5-a6d3a960e094"
      },
      "execution_count": 12,
      "outputs": [
        {
          "output_type": "stream",
          "name": "stdout",
          "text": [
            "                                  Zone  Entering  Leaving    Within  \\\n",
            "0                      AK-NonMSA areas      3732     2666  18716581   \n",
            "1                 AL-NonMSA areas (NE)   1529340  1560602  32972169   \n",
            "2                 AL-NonMSA areas (NW)    493008   505765  13586773   \n",
            "3                 AL-NonMSA areas (SE)    278649   271069   6818166   \n",
            "4                 AL-NonMSA areas (SW)    684061   739188  28407855   \n",
            "..                                 ...       ...      ...       ...   \n",
            "521                    Yanceyville, NC    160083   201024   1239363   \n",
            "522                   York-Hanover, PA   2965036  3225589  67888620   \n",
            "523  Youngstown-Warren-Boardman, OH-PA   1355320  1312150  65508544   \n",
            "524                      Yuba City, CA    199978   231008  26761138   \n",
            "525                           Yuma, AZ    555418   444130  37978114   \n",
            "\n",
            "     Total Trips Active Transport  \n",
            "0                        18722979  \n",
            "1                        36062111  \n",
            "2                        14585546  \n",
            "3                         7367884  \n",
            "4                        29831104  \n",
            "..                            ...  \n",
            "521                       1600470  \n",
            "522                      74079245  \n",
            "523                      68176014  \n",
            "524                      27192124  \n",
            "525                      38977662  \n",
            "\n",
            "[526 rows x 5 columns]\n"
          ]
        }
      ]
    }
  ]
}