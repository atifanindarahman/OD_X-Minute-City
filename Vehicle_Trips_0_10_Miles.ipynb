{
  "cells": [
    {
      "cell_type": "markdown",
      "metadata": {
        "id": "view-in-github",
        "colab_type": "text"
      },
      "source": [
        "<a href=\"https://colab.research.google.com/github/atifanindarahman/OD_X-Minute-City/blob/main/Vehicle_Trips_0_10_Miles.ipynb\" target=\"_parent\"><img src=\"https://colab.research.google.com/assets/colab-badge.svg\" alt=\"Open In Colab\"/></a>"
      ]
    },
    {
      "cell_type": "code",
      "execution_count": 1,
      "metadata": {
        "id": "jcMVvCNBe77p"
      },
      "outputs": [],
      "source": [
        "import pandas as pd"
      ]
    },
    {
      "cell_type": "code",
      "execution_count": 2,
      "metadata": {
        "id": "3UovIX95f4ZT"
      },
      "outputs": [],
      "source": [
        "file_path = \"/content/drive/MyDrive/2022_Passenger_OD_Annual_Data_all.csv\""
      ]
    },
    {
      "cell_type": "code",
      "execution_count": 3,
      "metadata": {
        "id": "a3efZrkVf99B"
      },
      "outputs": [],
      "source": [
        "data = pd.read_csv(file_path)"
      ]
    },
    {
      "cell_type": "code",
      "execution_count": 4,
      "metadata": {
        "id": "oX41Dr5klfbD"
      },
      "outputs": [],
      "source": [
        "within_trips = data[data['origin_zone_name'] == data['destination_zone_name']]"
      ]
    },
    {
      "cell_type": "code",
      "execution_count": 5,
      "metadata": {
        "id": "640F6tUWlms2"
      },
      "outputs": [],
      "source": [
        "c= within_trips.groupby('origin_zone_name')['vehicle_0_10mi'].sum()"
      ]
    },
    {
      "cell_type": "code",
      "execution_count": 6,
      "metadata": {
        "id": "DncMq6EYf3LJ"
      },
      "outputs": [],
      "source": [
        "entry_exit_trips = data[data['origin_zone_name'] != data['destination_zone_name']]"
      ]
    },
    {
      "cell_type": "code",
      "execution_count": 7,
      "metadata": {
        "id": "MA4iILA3ZEYj"
      },
      "outputs": [],
      "source": [
        "a = entry_exit_trips.groupby('destination_zone_name')['vehicle_0_10mi'].sum()\n",
        "b = entry_exit_trips.groupby('origin_zone_name')['vehicle_0_10mi'].sum()"
      ]
    },
    {
      "cell_type": "code",
      "execution_count": 8,
      "metadata": {
        "id": "eE3f4qmyZ8XS"
      },
      "outputs": [],
      "source": [
        "d=a+b+c"
      ]
    },
    {
      "cell_type": "code",
      "source": [
        "data = pd.concat([a,b,c,d], axis=1, keys=('Entering','Leaving','Within','Total Trips Vehicle 0-10 Miles')).rename_axis('Zone').reset_index()"
      ],
      "metadata": {
        "id": "dh0W619l72nk"
      },
      "execution_count": 9,
      "outputs": []
    },
    {
      "cell_type": "code",
      "execution_count": 10,
      "metadata": {
        "colab": {
          "base_uri": "https://localhost:8080/"
        },
        "id": "bFH9NhK7r4Ds",
        "outputId": "e3275caf-290c-42c1-e03f-875d3930b2ec"
      },
      "outputs": [
        {
          "output_type": "stream",
          "name": "stdout",
          "text": [
            "                                  Zone  Entering   Leaving     Within  \\\n",
            "0                      AK-NonMSA areas     18072     16076   97877202   \n",
            "1                 AL-NonMSA areas (NE)  14263559  14458033  306386110   \n",
            "2                 AL-NonMSA areas (NW)   4099059   4384211  136017084   \n",
            "3                 AL-NonMSA areas (SE)   2075579   1942188   56822095   \n",
            "4                 AL-NonMSA areas (SW)   5906218   6576274  248897895   \n",
            "..                                 ...       ...       ...        ...   \n",
            "521                    Yanceyville, NC   1238165   1718397    7120120   \n",
            "522                   York-Hanover, PA  17084752  18801165  278401543   \n",
            "523  Youngstown-Warren-Boardman, OH-PA   9660141   9700133  389807104   \n",
            "524                      Yuba City, CA   1467235   1594855  148589966   \n",
            "525                           Yuma, AZ   4656236   3086529  188243787   \n",
            "\n",
            "     Total Trips Vehicle 0-10 Miles  \n",
            "0                          97911350  \n",
            "1                         335107702  \n",
            "2                         144500354  \n",
            "3                          60839862  \n",
            "4                         261380387  \n",
            "..                              ...  \n",
            "521                        10076682  \n",
            "522                       314287460  \n",
            "523                       409167378  \n",
            "524                       151652056  \n",
            "525                       195986552  \n",
            "\n",
            "[526 rows x 5 columns]\n"
          ]
        }
      ],
      "source": [
        "print (data)"
      ]
    },
    {
      "cell_type": "code",
      "execution_count": null,
      "metadata": {
        "id": "Eg4VavUmatx-"
      },
      "outputs": [],
      "source": [
        "data.to_excel('/content/drive/MyDrive/output5.xlsx')"
      ]
    }
  ],
  "metadata": {
    "colab": {
      "provenance": [],
      "mount_file_id": "1Io1hlSHNNPBIROPUW39mayOnGabIss7c",
      "authorship_tag": "ABX9TyPkleSVXq9Kz+Xnj8gWKFfF",
      "include_colab_link": true
    },
    "kernelspec": {
      "display_name": "Python 3",
      "name": "python3"
    },
    "language_info": {
      "name": "python"
    }
  },
  "nbformat": 4,
  "nbformat_minor": 0
}