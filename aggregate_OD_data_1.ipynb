{
  "nbformat": 4,
  "nbformat_minor": 0,
  "metadata": {
    "colab": {
      "provenance": []
    },
    "kernelspec": {
      "name": "python3",
      "display_name": "Python 3"
    },
    "language_info": {
      "name": "python"
    }
  },
  "cells": [
    {
      "cell_type": "code",
      "execution_count": null,
      "metadata": {
        "id": "40ZdyoVP_H4-"
      },
      "outputs": [],
      "source": [
        "import pandas as pd"
      ]
    },
    {
      "cell_type": "code",
      "source": [
        "file_path = \"/content/drive/MyDrive/2022_Passenger_OD_Annual_Data_v1.xlsx\""
      ],
      "metadata": {
        "id": "vp_zUKAgEBPC"
      },
      "execution_count": null,
      "outputs": []
    },
    {
      "cell_type": "code",
      "source": [
        "data = pd.read_excel(file_path)"
      ],
      "metadata": {
        "id": "0ax-nM8xEfxr"
      },
      "execution_count": null,
      "outputs": []
    },
    {
      "cell_type": "code",
      "source": [
        "grouped_data = data.groupby(['origin_zone_name', 'destination_zone_name'])"
      ],
      "metadata": {
        "id": "cxIC38uLuzaw"
      },
      "execution_count": null,
      "outputs": []
    },
    {
      "cell_type": "code",
      "source": [
        "a = data.groupby('destination_zone_name')['annual_total_trips'].sum()\n",
        "b = data.groupby('origin_zone_name')['annual_total_trips'].sum()"
      ],
      "metadata": {
        "id": "-L9XAKsDURuV"
      },
      "execution_count": null,
      "outputs": []
    },
    {
      "cell_type": "code",
      "source": [
        "data = pd.concat([a,b], axis=1, keys=('Entering','Leaving')).rename_axis('Place').reset_index()\n"
      ],
      "metadata": {
        "id": "4odZ8EOungVK"
      },
      "execution_count": null,
      "outputs": []
    },
    {
      "cell_type": "code",
      "source": [
        "print (data)"
      ],
      "metadata": {
        "colab": {
          "base_uri": "https://localhost:8080/"
        },
        "id": "vlK-SC7hnlm7",
        "outputId": "5f7fded6-5102-4c17-a60d-59cf8ca12c57"
      },
      "execution_count": null,
      "outputs": [
        {
          "output_type": "stream",
          "name": "stdout",
          "text": [
            "                                 Place   Entering    Leaving\n",
            "0                      AK-NonMSA areas  138027147  138432641\n",
            "1                 AL-NonMSA areas (NE)  506063912  509709881\n",
            "2                 AL-NonMSA areas (NW)  225187776  227524504\n",
            "3                 AL-NonMSA areas (SE)   94695014   94771084\n",
            "4                 AL-NonMSA areas (SW)  407664019  411192541\n",
            "..                                 ...        ...        ...\n",
            "521                    Yanceyville, NC   15062470   17149729\n",
            "522                   York-Hanover, PA  457492095  465189607\n",
            "523  Youngstown-Warren-Boardman, OH-PA  580943222  580526836\n",
            "524                      Yuba City, CA  226973276  227806067\n",
            "525                           Yuma, AZ  272803846  270520514\n",
            "\n",
            "[526 rows x 3 columns]\n"
          ]
        }
      ]
    },
    {
      "cell_type": "code",
      "source": [
        "!pip install openpyxl"
      ],
      "metadata": {
        "colab": {
          "base_uri": "https://localhost:8080/"
        },
        "id": "FKdmxk__WIKV",
        "outputId": "3df7a285-348d-4c83-c728-7450d212fa23"
      },
      "execution_count": null,
      "outputs": [
        {
          "output_type": "stream",
          "name": "stdout",
          "text": [
            "Requirement already satisfied: openpyxl in /usr/local/lib/python3.10/dist-packages (3.1.2)\n",
            "Requirement already satisfied: et-xmlfile in /usr/local/lib/python3.10/dist-packages (from openpyxl) (1.1.0)\n"
          ]
        }
      ]
    },
    {
      "cell_type": "code",
      "source": [
        "import openpyxl"
      ],
      "metadata": {
        "id": "qBHPUmpCWLad"
      },
      "execution_count": null,
      "outputs": []
    },
    {
      "cell_type": "code",
      "source": [
        "data.to_excel('/content/drive/MyDrive/output3.xlsx')"
      ],
      "metadata": {
        "id": "NGCJ2LmOWaGQ"
      },
      "execution_count": null,
      "outputs": []
    }
  ]
}