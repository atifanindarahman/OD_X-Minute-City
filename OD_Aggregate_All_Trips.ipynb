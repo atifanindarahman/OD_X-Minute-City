{
  "nbformat": 4,
  "nbformat_minor": 0,
  "metadata": {
    "colab": {
      "provenance": [],
      "mount_file_id": "1J-6LeNgY8G4CjnSMbqZN1hu6Mz_lzNbi",
      "authorship_tag": "ABX9TyMj8Z2vkL4plnKnIog/YD11",
      "include_colab_link": true
    },
    "kernelspec": {
      "name": "python3",
      "display_name": "Python 3"
    },
    "language_info": {
      "name": "python"
    }
  },
  "cells": [
    {
      "cell_type": "markdown",
      "metadata": {
        "id": "view-in-github",
        "colab_type": "text"
      },
      "source": [
        "<a href=\"https://colab.research.google.com/github/atifanindarahman/OD_X-Minute-City/blob/main/OD_Aggregate_All_Trips.ipynb\" target=\"_parent\"><img src=\"https://colab.research.google.com/assets/colab-badge.svg\" alt=\"Open In Colab\"/></a>"
      ]
    },
    {
      "cell_type": "code",
      "execution_count": 52,
      "metadata": {
        "id": "jcS2zY-AIqW0"
      },
      "outputs": [],
      "source": [
        "import pandas as pd"
      ]
    },
    {
      "cell_type": "code",
      "source": [
        "file_path = \"/content/drive/MyDrive/2022_Passenger_OD_Annual_Data_all.csv\""
      ],
      "metadata": {
        "id": "0AdbyXWN8vC-"
      },
      "execution_count": 53,
      "outputs": []
    },
    {
      "cell_type": "code",
      "source": [
        "data = pd.read_csv(file_path)"
      ],
      "metadata": {
        "id": "gtxp3Jzx9JQ-"
      },
      "execution_count": 54,
      "outputs": []
    },
    {
      "cell_type": "code",
      "source": [
        "within_trips = data[data['origin_zone_name'] == data['destination_zone_name']]"
      ],
      "metadata": {
        "id": "Fdej3X9O9l33"
      },
      "execution_count": 55,
      "outputs": []
    },
    {
      "cell_type": "code",
      "source": [
        "c= within_trips.groupby('origin_zone_name')['annual_total_trips'].sum()"
      ],
      "metadata": {
        "id": "R8Z0KIPw9sYN"
      },
      "execution_count": 56,
      "outputs": []
    },
    {
      "cell_type": "code",
      "source": [
        "grouped_data = data[data['origin_zone_name'] != data['destination_zone_name']]"
      ],
      "metadata": {
        "id": "q73kvEYRDWr9"
      },
      "execution_count": 57,
      "outputs": []
    },
    {
      "cell_type": "code",
      "source": [
        "a = grouped_data.groupby('destination_zone_name')['annual_total_trips'].sum()\n",
        "b = grouped_data.groupby('origin_zone_name')['annual_total_trips'].sum()"
      ],
      "metadata": {
        "id": "ogKQGHvBDb58"
      },
      "execution_count": 58,
      "outputs": []
    },
    {
      "cell_type": "code",
      "source": [
        "d= a+b+c"
      ],
      "metadata": {
        "id": "PEx7l_iCOJSv"
      },
      "execution_count": 59,
      "outputs": []
    },
    {
      "cell_type": "code",
      "source": [
        "data = pd.concat([a,b,c,d], axis=1, keys=('Entering','Leaving','Within','Total_Trips')).rename_axis('Zone').reset_index()"
      ],
      "metadata": {
        "id": "svSWUV1ADaAN"
      },
      "execution_count": 60,
      "outputs": []
    },
    {
      "cell_type": "code",
      "source": [
        "print (data)"
      ],
      "metadata": {
        "colab": {
          "base_uri": "https://localhost:8080/"
        },
        "id": "gIsDy-HLD0N_",
        "outputId": "34471f12-765a-41d2-8131-0c51580df6f3"
      },
      "execution_count": 61,
      "outputs": [
        {
          "output_type": "stream",
          "name": "stdout",
          "text": [
            "                                  Zone  Entering   Leaving     Within  \\\n",
            "0                      AK-NonMSA areas   2834116   3239610  135193031   \n",
            "1                 AL-NonMSA areas (NE)  74705141  78351110  431358771   \n",
            "2                 AL-NonMSA areas (NW)  30284741  32621469  194903035   \n",
            "3                 AL-NonMSA areas (SE)  16384858  16460928   78310156   \n",
            "4                 AL-NonMSA areas (SW)  45490327  49018849  362173692   \n",
            "..                                 ...       ...       ...        ...   \n",
            "521                    Yanceyville, NC   5441603   7528862    9620867   \n",
            "522                   York-Hanover, PA  63748747  71446259  393743348   \n",
            "523  Youngstown-Warren-Boardman, OH-PA  48013263  47596877  532929959   \n",
            "524                      Yuba City, CA  28248133  29080924  198725143   \n",
            "525                           Yuma, AZ  12216567   9933235  260587279   \n",
            "\n",
            "     Total_Trips  \n",
            "0      141266757  \n",
            "1      584415022  \n",
            "2      257809245  \n",
            "3      111155942  \n",
            "4      456682868  \n",
            "..           ...  \n",
            "521     22591332  \n",
            "522    528938354  \n",
            "523    628540099  \n",
            "524    256054200  \n",
            "525    282737081  \n",
            "\n",
            "[526 rows x 5 columns]\n"
          ]
        }
      ]
    },
    {
      "cell_type": "code",
      "source": [
        "import openpyxl"
      ],
      "metadata": {
        "id": "ViYiW6atHUfc"
      },
      "execution_count": 62,
      "outputs": []
    },
    {
      "cell_type": "code",
      "source": [
        "data.to_excel('/content/drive/MyDrive/output_total.xlsx')"
      ],
      "metadata": {
        "id": "L7EVQWwDHaw7"
      },
      "execution_count": 63,
      "outputs": []
    }
  ]
}