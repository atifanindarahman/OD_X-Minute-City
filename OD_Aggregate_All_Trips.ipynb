{
  "nbformat": 4,
  "nbformat_minor": 0,
  "metadata": {
    "colab": {
      "provenance": [],
      "mount_file_id": "1J-6LeNgY8G4CjnSMbqZN1hu6Mz_lzNbi",
      "authorship_tag": "ABX9TyMxlZQvSDXmZQZbX5NcfaZx",
      "include_colab_link": true
    },
    "kernelspec": {
      "name": "python3",
      "display_name": "Python 3"
    },
    "language_info": {
      "name": "python"
    }
  },
  "cells": [
    {
      "cell_type": "markdown",
      "metadata": {
        "id": "view-in-github",
        "colab_type": "text"
      },
      "source": [
        "<a href=\"https://colab.research.google.com/github/atifanindarahman/OD_X-Minute-City/blob/main/OD_Aggregate_All_Trips.ipynb\" target=\"_parent\"><img src=\"https://colab.research.google.com/assets/colab-badge.svg\" alt=\"Open In Colab\"/></a>"
      ]
    },
    {
      "cell_type": "code",
      "execution_count": 34,
      "metadata": {
        "id": "jcS2zY-AIqW0"
      },
      "outputs": [],
      "source": [
        "import pandas as pd"
      ]
    },
    {
      "cell_type": "code",
      "source": [
        "file_path = \"/content/drive/MyDrive/2022_Passenger_OD_Annual_Data_all.csv\""
      ],
      "metadata": {
        "id": "0AdbyXWN8vC-"
      },
      "execution_count": 35,
      "outputs": []
    },
    {
      "cell_type": "code",
      "source": [
        "data = pd.read_csv(file_path)"
      ],
      "metadata": {
        "id": "gtxp3Jzx9JQ-"
      },
      "execution_count": 36,
      "outputs": []
    },
    {
      "cell_type": "code",
      "source": [
        "within_trips = data[data['origin_zone_name'] == data['destination_zone_name']]"
      ],
      "metadata": {
        "id": "Fdej3X9O9l33"
      },
      "execution_count": 37,
      "outputs": []
    },
    {
      "cell_type": "code",
      "source": [
        "c= within_trips.groupby('origin_zone_name')['annual_total_trips'].sum()"
      ],
      "metadata": {
        "id": "R8Z0KIPw9sYN"
      },
      "execution_count": 38,
      "outputs": []
    },
    {
      "cell_type": "code",
      "source": [
        "grouped_data = data.groupby(['origin_zone_name', 'destination_zone_name'])"
      ],
      "metadata": {
        "id": "q73kvEYRDWr9"
      },
      "execution_count": 39,
      "outputs": []
    },
    {
      "cell_type": "code",
      "source": [
        "a = data.groupby('destination_zone_name')['annual_total_trips'].sum()\n",
        "b = data.groupby('origin_zone_name')['annual_total_trips'].sum()"
      ],
      "metadata": {
        "id": "ogKQGHvBDb58"
      },
      "execution_count": 40,
      "outputs": []
    },
    {
      "cell_type": "code",
      "source": [
        "data = pd.concat([a,b,c], axis=1, keys=('Entering','Leaving','Within')).rename_axis('Place').reset_index()"
      ],
      "metadata": {
        "id": "svSWUV1ADaAN"
      },
      "execution_count": 41,
      "outputs": []
    },
    {
      "cell_type": "code",
      "source": [
        "print (data)"
      ],
      "metadata": {
        "colab": {
          "base_uri": "https://localhost:8080/"
        },
        "id": "gIsDy-HLD0N_",
        "outputId": "5f7ea18d-9bf1-4cfc-dc61-5220869bd368"
      },
      "execution_count": 42,
      "outputs": [
        {
          "output_type": "stream",
          "name": "stdout",
          "text": [
            "                                 Place   Entering    Leaving     Within\n",
            "0                      AK-NonMSA areas  138027147  138432641  135193031\n",
            "1                 AL-NonMSA areas (NE)  506063912  509709881  431358771\n",
            "2                 AL-NonMSA areas (NW)  225187776  227524504  194903035\n",
            "3                 AL-NonMSA areas (SE)   94695014   94771084   78310156\n",
            "4                 AL-NonMSA areas (SW)  407664019  411192541  362173692\n",
            "..                                 ...        ...        ...        ...\n",
            "521                    Yanceyville, NC   15062470   17149729    9620867\n",
            "522                   York-Hanover, PA  457492095  465189607  393743348\n",
            "523  Youngstown-Warren-Boardman, OH-PA  580943222  580526836  532929959\n",
            "524                      Yuba City, CA  226973276  227806067  198725143\n",
            "525                           Yuma, AZ  272803846  270520514  260587279\n",
            "\n",
            "[526 rows x 4 columns]\n"
          ]
        }
      ]
    },
    {
      "cell_type": "code",
      "source": [
        "import openpyxl"
      ],
      "metadata": {
        "id": "ViYiW6atHUfc"
      },
      "execution_count": 43,
      "outputs": []
    },
    {
      "cell_type": "code",
      "source": [
        "data.to_excel('/content/drive/MyDrive/output_final.xlsx')"
      ],
      "metadata": {
        "id": "L7EVQWwDHaw7"
      },
      "execution_count": 44,
      "outputs": []
    }
  ]
}