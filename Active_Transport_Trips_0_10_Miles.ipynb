{
  "nbformat": 4,
  "nbformat_minor": 0,
  "metadata": {
    "colab": {
      "provenance": [],
      "mount_file_id": "1tUXpOssJfVbm1P6vwiOl8No0XcxjyUHj",
      "authorship_tag": "ABX9TyM1fR+1/awUDfqVXxO9KqfF",
      "include_colab_link": true
    },
    "kernelspec": {
      "name": "python3",
      "display_name": "Python 3"
    },
    "language_info": {
      "name": "python"
    }
  },
  "cells": [
    {
      "cell_type": "markdown",
      "metadata": {
        "id": "view-in-github",
        "colab_type": "text"
      },
      "source": [
        "<a href=\"https://colab.research.google.com/github/atifanindarahman/OD_X-Minute-City/blob/main/Active_Transport_Trips_0_10_Miles.ipynb\" target=\"_parent\"><img src=\"https://colab.research.google.com/assets/colab-badge.svg\" alt=\"Open In Colab\"/></a>"
      ]
    },
    {
      "cell_type": "code",
      "execution_count": 13,
      "metadata": {
        "id": "HGxqvAsHhZ2q"
      },
      "outputs": [],
      "source": [
        "import pandas as pd"
      ]
    },
    {
      "cell_type": "code",
      "source": [
        "file_path = \"/content/drive/MyDrive/2022_Passenger_OD_Annual_Data_all.csv\""
      ],
      "metadata": {
        "id": "2aIUjJjEiBHH"
      },
      "execution_count": 14,
      "outputs": []
    },
    {
      "cell_type": "code",
      "source": [
        "data = pd.read_csv(file_path)"
      ],
      "metadata": {
        "id": "orxQxVl8iEuZ"
      },
      "execution_count": 15,
      "outputs": []
    },
    {
      "cell_type": "code",
      "source": [
        "within_trips = data[data['origin_zone_name'] == data['destination_zone_name']]"
      ],
      "metadata": {
        "id": "pnw4rEVqiGYP"
      },
      "execution_count": 16,
      "outputs": []
    },
    {
      "cell_type": "code",
      "source": [
        "c= within_trips.groupby('origin_zone_name')['atf_0_10mi'].sum()"
      ],
      "metadata": {
        "id": "sUcdDWWUiLwb"
      },
      "execution_count": 17,
      "outputs": []
    },
    {
      "cell_type": "code",
      "source": [
        "entry_exit_trips = data[data['origin_zone_name'] != data['destination_zone_name']]"
      ],
      "metadata": {
        "id": "eWugmuLuiSJC"
      },
      "execution_count": 18,
      "outputs": []
    },
    {
      "cell_type": "code",
      "source": [
        "a = entry_exit_trips.groupby('destination_zone_name')['atf_0_10mi'].sum()\n",
        "b = entry_exit_trips.groupby('origin_zone_name')['atf_0_10mi'].sum()"
      ],
      "metadata": {
        "id": "FOtjq1kniUUI"
      },
      "execution_count": 19,
      "outputs": []
    },
    {
      "cell_type": "code",
      "source": [
        "d=a+b+c"
      ],
      "metadata": {
        "id": "S4uYrsf9iYcy"
      },
      "execution_count": 20,
      "outputs": []
    },
    {
      "cell_type": "code",
      "source": [
        "data = pd.concat([a,b,c,d], axis=1, keys=('Entering','Leaving','Within','Total Trips Active Transport 0-10 Miles')).rename_axis('Zone').reset_index()"
      ],
      "metadata": {
        "id": "Q-3xk48PibJL"
      },
      "execution_count": 21,
      "outputs": []
    },
    {
      "cell_type": "code",
      "source": [
        "print (data)"
      ],
      "metadata": {
        "colab": {
          "base_uri": "https://localhost:8080/"
        },
        "id": "IqgYMDJRiihG",
        "outputId": "4ac26c07-65be-4c98-e1f2-039416c786c2"
      },
      "execution_count": 22,
      "outputs": [
        {
          "output_type": "stream",
          "name": "stdout",
          "text": [
            "                                  Zone  Entering  Leaving    Within  \\\n",
            "0                      AK-NonMSA areas       949      423  18587382   \n",
            "1                 AL-NonMSA areas (NE)    785173   807131  31907375   \n",
            "2                 AL-NonMSA areas (NW)    197976   198049  13221253   \n",
            "3                 AL-NonMSA areas (SE)    118429    94629   6687651   \n",
            "4                 AL-NonMSA areas (SW)    308401   337044  27558517   \n",
            "..                                 ...       ...      ...       ...   \n",
            "521                    Yanceyville, NC    109201   136825   1229204   \n",
            "522                   York-Hanover, PA   2460849  2685773  67380971   \n",
            "523  Youngstown-Warren-Boardman, OH-PA   1058286  1028656  64702628   \n",
            "524                      Yuba City, CA     88957   119795  26651323   \n",
            "525                           Yuma, AZ    539658   425833  37622546   \n",
            "\n",
            "     Total Trips Active Transport 0-10 Miles  \n",
            "0                                   18588754  \n",
            "1                                   33499679  \n",
            "2                                   13617278  \n",
            "3                                    6900709  \n",
            "4                                   28203962  \n",
            "..                                       ...  \n",
            "521                                  1475230  \n",
            "522                                 72527593  \n",
            "523                                 66789570  \n",
            "524                                 26860075  \n",
            "525                                 38588037  \n",
            "\n",
            "[526 rows x 5 columns]\n"
          ]
        }
      ]
    }
  ]
}