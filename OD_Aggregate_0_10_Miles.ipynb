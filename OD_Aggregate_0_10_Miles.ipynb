{
  "nbformat": 4,
  "nbformat_minor": 0,
  "metadata": {
    "colab": {
      "provenance": [],
      "mount_file_id": "1laLXN8pZnOap7bZzzeFzz0IbCunXxguv",
      "authorship_tag": "ABX9TyOpCbr8EsHmMOhmtcBqw0+j",
      "include_colab_link": true
    },
    "kernelspec": {
      "name": "python3",
      "display_name": "Python 3"
    },
    "language_info": {
      "name": "python"
    }
  },
  "cells": [
    {
      "cell_type": "markdown",
      "metadata": {
        "id": "view-in-github",
        "colab_type": "text"
      },
      "source": [
        "<a href=\"https://colab.research.google.com/github/atifanindarahman/OD_X-Minute-City/blob/main/OD_Aggregate_0_10_Miles.ipynb\" target=\"_parent\"><img src=\"https://colab.research.google.com/assets/colab-badge.svg\" alt=\"Open In Colab\"/></a>"
      ]
    },
    {
      "cell_type": "code",
      "execution_count": 2,
      "metadata": {
        "id": "OYOgetfCNdj0"
      },
      "outputs": [],
      "source": [
        "import pandas as pd"
      ]
    },
    {
      "cell_type": "code",
      "source": [
        "file_path = \"/content/drive/MyDrive/2022_Passenger_OD_Annual_Data_all.csv\""
      ],
      "metadata": {
        "id": "PRycfxk6ePqY"
      },
      "execution_count": 3,
      "outputs": []
    },
    {
      "cell_type": "code",
      "source": [
        "data = pd.read_csv(file_path)"
      ],
      "metadata": {
        "id": "7fTjHefdeS-v"
      },
      "execution_count": 4,
      "outputs": []
    },
    {
      "cell_type": "code",
      "source": [
        "grouped_data = data[data['origin_zone_name'] != data['destination_zone_name']]"
      ],
      "metadata": {
        "id": "n_U2ieQLenDD"
      },
      "execution_count": 6,
      "outputs": []
    },
    {
      "cell_type": "code",
      "source": [
        "a = grouped_data.groupby('destination_zone_name')['annual_total_trips'].sum()\n",
        "b = grouped_data.groupby('origin_zone_name')['annual_total_trips'].sum()"
      ],
      "metadata": {
        "id": "6UzUSMQ_esJo"
      },
      "execution_count": 7,
      "outputs": []
    },
    {
      "cell_type": "code",
      "source": [
        "grouped_data = data.groupby(['origin_zone_name', 'destination_zone_name'])"
      ],
      "metadata": {
        "id": "jWPCghFPeFKx"
      },
      "execution_count": 8,
      "outputs": []
    },
    {
      "cell_type": "code",
      "source": [
        "c = data.groupby('origin_zone_name')['distance_0_10'].sum()"
      ],
      "metadata": {
        "id": "MJliAw-ZeHiY"
      },
      "execution_count": 9,
      "outputs": []
    },
    {
      "cell_type": "code",
      "source": [
        "d=a+b+c"
      ],
      "metadata": {
        "id": "27a7FpOreiHo"
      },
      "execution_count": 10,
      "outputs": []
    },
    {
      "cell_type": "code",
      "source": [
        "data = pd.concat([a,b,c,d], axis=1, keys=('Entering','Leaving','0-10 Miles Trips','Total_Trips')).rename_axis('Place').reset_index()"
      ],
      "metadata": {
        "id": "L4tmGinYfVPg"
      },
      "execution_count": 11,
      "outputs": []
    },
    {
      "cell_type": "code",
      "source": [
        "print (data)"
      ],
      "metadata": {
        "colab": {
          "base_uri": "https://localhost:8080/"
        },
        "id": "gs4Jk2TZffGA",
        "outputId": "ac21863a-4df7-4ccb-cd0d-f25ae25b62ce"
      },
      "execution_count": 12,
      "outputs": [
        {
          "output_type": "stream",
          "name": "stdout",
          "text": [
            "                                 Place  Entering   Leaving  0-10 Miles Trips  \\\n",
            "0                      AK-NonMSA areas   2834116   3239610         116481211   \n",
            "1                 AL-NonMSA areas (NE)  74705141  78351110         353558649   \n",
            "2                 AL-NonMSA areas (NW)  30284741  32621469         153820597   \n",
            "3                 AL-NonMSA areas (SE)  16384858  16460928          65546563   \n",
            "4                 AL-NonMSA areas (SW)  45490327  49018849         283369730   \n",
            "..                                 ...       ...       ...               ...   \n",
            "521                    Yanceyville, NC   5441603   7528862          10204546   \n",
            "522                   York-Hanover, PA  63748747  71446259         367269452   \n",
            "523  Youngstown-Warren-Boardman, OH-PA  48013263  47596877         465239923   \n",
            "524                      Yuba City, CA  28248133  29080924         176984276   \n",
            "525                           Yuma, AZ  12216567   9933235         229379445   \n",
            "\n",
            "     Total_Trips  \n",
            "0      122554937  \n",
            "1      506614900  \n",
            "2      216726807  \n",
            "3       98392349  \n",
            "4      377878906  \n",
            "..           ...  \n",
            "521     23175011  \n",
            "522    502464458  \n",
            "523    560850063  \n",
            "524    234313333  \n",
            "525    251529247  \n",
            "\n",
            "[526 rows x 5 columns]\n"
          ]
        }
      ]
    },
    {
      "cell_type": "code",
      "source": [
        "import openpyxl"
      ],
      "metadata": {
        "id": "DUI2uB_Xe1ZB"
      },
      "execution_count": 13,
      "outputs": []
    },
    {
      "cell_type": "code",
      "source": [
        "data.to_excel('/content/drive/MyDrive/output_0_10.xlsx')"
      ],
      "metadata": {
        "id": "LAMRI-BLe3zJ"
      },
      "execution_count": 14,
      "outputs": []
    }
  ]
}