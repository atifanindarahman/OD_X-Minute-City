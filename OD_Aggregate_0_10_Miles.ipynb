{
  "nbformat": 4,
  "nbformat_minor": 0,
  "metadata": {
    "colab": {
      "provenance": [],
      "mount_file_id": "1laLXN8pZnOap7bZzzeFzz0IbCunXxguv",
      "authorship_tag": "ABX9TyODIjra7OzNN5Atg8VUSmrG",
      "include_colab_link": true
    },
    "kernelspec": {
      "name": "python3",
      "display_name": "Python 3"
    },
    "language_info": {
      "name": "python"
    }
  },
  "cells": [
    {
      "cell_type": "markdown",
      "metadata": {
        "id": "view-in-github",
        "colab_type": "text"
      },
      "source": [
        "<a href=\"https://colab.research.google.com/github/atifanindarahman/OD_X-Minute-City/blob/main/OD_Aggregate_0_10_Miles.ipynb\" target=\"_parent\"><img src=\"https://colab.research.google.com/assets/colab-badge.svg\" alt=\"Open In Colab\"/></a>"
      ]
    },
    {
      "cell_type": "code",
      "execution_count": 15,
      "metadata": {
        "id": "OYOgetfCNdj0"
      },
      "outputs": [],
      "source": [
        "import pandas as pd"
      ]
    },
    {
      "cell_type": "code",
      "source": [
        "file_path = \"/content/drive/MyDrive/2022_Passenger_OD_Annual_Data_all.csv\""
      ],
      "metadata": {
        "id": "PRycfxk6ePqY"
      },
      "execution_count": 16,
      "outputs": []
    },
    {
      "cell_type": "code",
      "source": [
        "data = pd.read_csv(file_path)"
      ],
      "metadata": {
        "id": "7fTjHefdeS-v"
      },
      "execution_count": 19,
      "outputs": []
    },
    {
      "cell_type": "code",
      "source": [
        "grouped_data = data[data['origin_zone_name'] != data['destination_zone_name']]"
      ],
      "metadata": {
        "id": "n_U2ieQLenDD"
      },
      "execution_count": 20,
      "outputs": []
    },
    {
      "cell_type": "code",
      "source": [
        "a = grouped_data.groupby('destination_zone_name')['distance_0_10'].sum()\n",
        "b = grouped_data.groupby('origin_zone_name')['distance_0_10'].sum()"
      ],
      "metadata": {
        "id": "6UzUSMQ_esJo"
      },
      "execution_count": 21,
      "outputs": []
    },
    {
      "cell_type": "code",
      "source": [
        "grouped_data = data.groupby(['origin_zone_name', 'destination_zone_name'])"
      ],
      "metadata": {
        "id": "jWPCghFPeFKx"
      },
      "execution_count": 22,
      "outputs": []
    },
    {
      "cell_type": "code",
      "source": [
        "c = data.groupby('origin_zone_name')['distance_0_10'].sum()"
      ],
      "metadata": {
        "id": "MJliAw-ZeHiY"
      },
      "execution_count": 23,
      "outputs": []
    },
    {
      "cell_type": "code",
      "source": [
        "d=a+b+c"
      ],
      "metadata": {
        "id": "27a7FpOreiHo"
      },
      "execution_count": 24,
      "outputs": []
    },
    {
      "cell_type": "code",
      "source": [
        "data = pd.concat([a,b,c,d], axis=1, keys=('Entering','Leaving','0-10 Miles Trips','Total_Trips')).rename_axis('Zone').reset_index()"
      ],
      "metadata": {
        "id": "L4tmGinYfVPg"
      },
      "execution_count": 25,
      "outputs": []
    },
    {
      "cell_type": "code",
      "source": [
        "print (data)"
      ],
      "metadata": {
        "colab": {
          "base_uri": "https://localhost:8080/"
        },
        "id": "gs4Jk2TZffGA",
        "outputId": "2478188b-08a4-4023-9eed-fcfff06e3cd9"
      },
      "execution_count": 26,
      "outputs": [
        {
          "output_type": "stream",
          "name": "stdout",
          "text": [
            "                                  Zone  Entering   Leaving  0-10 Miles Trips  \\\n",
            "0                      AK-NonMSA areas     19021     16499         116481211   \n",
            "1                 AL-NonMSA areas (NE)  15048732  15265164         353558649   \n",
            "2                 AL-NonMSA areas (NW)   4297035   4582260         153820597   \n",
            "3                 AL-NonMSA areas (SE)   2194008   2036817          65546563   \n",
            "4                 AL-NonMSA areas (SW)   6214619   6913318         283369730   \n",
            "..                                 ...       ...       ...               ...   \n",
            "521                    Yanceyville, NC   1347366   1855222          10204546   \n",
            "522                   York-Hanover, PA  19545601  21486938         367269452   \n",
            "523  Youngstown-Warren-Boardman, OH-PA  10720455  10730191         465239923   \n",
            "524                      Yuba City, CA   1556192   1714650         176984276   \n",
            "525                           Yuma, AZ   5196994   3513112         229379445   \n",
            "\n",
            "     Total_Trips  \n",
            "0      116516731  \n",
            "1      383872545  \n",
            "2      162699892  \n",
            "3       69777388  \n",
            "4      296497667  \n",
            "..           ...  \n",
            "521     13407134  \n",
            "522    408301991  \n",
            "523    486690569  \n",
            "524    180255118  \n",
            "525    238089551  \n",
            "\n",
            "[526 rows x 5 columns]\n"
          ]
        }
      ]
    },
    {
      "cell_type": "code",
      "source": [
        "import openpyxl"
      ],
      "metadata": {
        "id": "DUI2uB_Xe1ZB"
      },
      "execution_count": 27,
      "outputs": []
    },
    {
      "cell_type": "code",
      "source": [
        "data.to_excel('/content/drive/MyDrive/output_0_10.xlsx')"
      ],
      "metadata": {
        "id": "LAMRI-BLe3zJ"
      },
      "execution_count": 28,
      "outputs": []
    }
  ]
}