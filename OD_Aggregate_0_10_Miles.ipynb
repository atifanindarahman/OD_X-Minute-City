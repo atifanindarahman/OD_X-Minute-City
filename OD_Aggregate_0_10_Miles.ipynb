{
  "nbformat": 4,
  "nbformat_minor": 0,
  "metadata": {
    "colab": {
      "provenance": [],
      "mount_file_id": "1laLXN8pZnOap7bZzzeFzz0IbCunXxguv",
      "authorship_tag": "ABX9TyNaZ0JEcLPkBfvFxhtfOKgC",
      "include_colab_link": true
    },
    "kernelspec": {
      "name": "python3",
      "display_name": "Python 3"
    },
    "language_info": {
      "name": "python"
    }
  },
  "cells": [
    {
      "cell_type": "markdown",
      "metadata": {
        "id": "view-in-github",
        "colab_type": "text"
      },
      "source": [
        "<a href=\"https://colab.research.google.com/github/atifanindarahman/OD_X-Minute-City/blob/main/OD_Aggregate_0_10_Miles.ipynb\" target=\"_parent\"><img src=\"https://colab.research.google.com/assets/colab-badge.svg\" alt=\"Open In Colab\"/></a>"
      ]
    },
    {
      "cell_type": "code",
      "execution_count": 1,
      "metadata": {
        "id": "OYOgetfCNdj0"
      },
      "outputs": [],
      "source": [
        "import pandas as pd"
      ]
    },
    {
      "cell_type": "code",
      "source": [
        "file_path = \"/content/drive/MyDrive/2022_Passenger_OD_Annual_Data_all.csv\""
      ],
      "metadata": {
        "id": "PRycfxk6ePqY"
      },
      "execution_count": 4,
      "outputs": []
    },
    {
      "cell_type": "code",
      "source": [
        "data = pd.read_csv(file_path)"
      ],
      "metadata": {
        "id": "7fTjHefdeS-v"
      },
      "execution_count": 5,
      "outputs": []
    },
    {
      "cell_type": "code",
      "source": [
        "grouped_data = data.groupby(['origin_zone_name', 'destination_zone_name'])"
      ],
      "metadata": {
        "id": "n_U2ieQLenDD"
      },
      "execution_count": 6,
      "outputs": []
    },
    {
      "cell_type": "code",
      "source": [
        "a = data.groupby('destination_zone_name')['annual_total_trips'].sum()\n",
        "b = data.groupby('origin_zone_name')['annual_total_trips'].sum()\n",
        "c = data.groupby('origin_zone_name')['distance_0_10'].sum()"
      ],
      "metadata": {
        "id": "6UzUSMQ_esJo"
      },
      "execution_count": 7,
      "outputs": []
    },
    {
      "cell_type": "code",
      "source": [
        "data = pd.concat([a,b,c], axis=1, keys=('Entering','Leaving','0-10 Miles Trips')).rename_axis('Place').reset_index()"
      ],
      "metadata": {
        "id": "L4tmGinYfVPg"
      },
      "execution_count": 8,
      "outputs": []
    },
    {
      "cell_type": "code",
      "source": [
        "print (data)"
      ],
      "metadata": {
        "colab": {
          "base_uri": "https://localhost:8080/"
        },
        "id": "gs4Jk2TZffGA",
        "outputId": "f06020ed-c207-4e8f-b028-dade616a7069"
      },
      "execution_count": 9,
      "outputs": [
        {
          "output_type": "stream",
          "name": "stdout",
          "text": [
            "                                 Place   Entering    Leaving  0-10 Miles Trips\n",
            "0                      AK-NonMSA areas  138027147  138432641         116481211\n",
            "1                 AL-NonMSA areas (NE)  506063912  509709881         353558649\n",
            "2                 AL-NonMSA areas (NW)  225187776  227524504         153820597\n",
            "3                 AL-NonMSA areas (SE)   94695014   94771084          65546563\n",
            "4                 AL-NonMSA areas (SW)  407664019  411192541         283369730\n",
            "..                                 ...        ...        ...               ...\n",
            "521                    Yanceyville, NC   15062470   17149729          10204546\n",
            "522                   York-Hanover, PA  457492095  465189607         367269452\n",
            "523  Youngstown-Warren-Boardman, OH-PA  580943222  580526836         465239923\n",
            "524                      Yuba City, CA  226973276  227806067         176984276\n",
            "525                           Yuma, AZ  272803846  270520514         229379445\n",
            "\n",
            "[526 rows x 4 columns]\n"
          ]
        }
      ]
    }
  ]
}