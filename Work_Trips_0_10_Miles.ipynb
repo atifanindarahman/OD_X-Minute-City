{
  "nbformat": 4,
  "nbformat_minor": 0,
  "metadata": {
    "colab": {
      "provenance": [],
      "mount_file_id": "1t5KKN6CZMeLITSeksuu0WyDF_KGtiwN8",
      "authorship_tag": "ABX9TyNo4bR2NBAe/ujtCcvGPadx",
      "include_colab_link": true
    },
    "kernelspec": {
      "name": "python3",
      "display_name": "Python 3"
    },
    "language_info": {
      "name": "python"
    }
  },
  "cells": [
    {
      "cell_type": "markdown",
      "metadata": {
        "id": "view-in-github",
        "colab_type": "text"
      },
      "source": [
        "<a href=\"https://colab.research.google.com/github/atifanindarahman/OD_X-Minute-City/blob/main/Work_Trips_0_10_Miles.ipynb\" target=\"_parent\"><img src=\"https://colab.research.google.com/assets/colab-badge.svg\" alt=\"Open In Colab\"/></a>"
      ]
    },
    {
      "cell_type": "code",
      "execution_count": null,
      "metadata": {
        "id": "WhsuhxI6CKBl"
      },
      "outputs": [],
      "source": [
        "import pandas as pd"
      ]
    },
    {
      "cell_type": "code",
      "source": [
        "file_path = \"/content/drive/MyDrive/2022_Passenger_OD_Annual_Data_all.csv\""
      ],
      "metadata": {
        "id": "9-kxkVMXCSVz"
      },
      "execution_count": null,
      "outputs": []
    },
    {
      "cell_type": "code",
      "source": [
        "data = pd.read_csv(file_path)"
      ],
      "metadata": {
        "id": "8lPw9CCdC3jT"
      },
      "execution_count": null,
      "outputs": []
    },
    {
      "cell_type": "code",
      "source": [
        "within_trips = data[data['origin_zone_name'] == data['destination_zone_name']]"
      ],
      "metadata": {
        "id": "ZQnZ3s2shBai"
      },
      "execution_count": null,
      "outputs": []
    },
    {
      "cell_type": "code",
      "source": [
        "c= within_trips.groupby('origin_zone_name')['work_0_10mi'].sum()"
      ],
      "metadata": {
        "id": "WI8JkofKT9nT"
      },
      "execution_count": null,
      "outputs": []
    },
    {
      "cell_type": "code",
      "source": [
        "entry_exit_trips = data[data['origin_zone_name'] != data['destination_zone_name']]"
      ],
      "metadata": {
        "id": "3cC09pxGUNlj"
      },
      "execution_count": null,
      "outputs": []
    },
    {
      "cell_type": "code",
      "source": [
        "a = entry_exit_trips.groupby('destination_zone_name')['work_0_10mi'].sum()\n",
        "b = entry_exit_trips.groupby('origin_zone_name')['work_0_10mi'].sum()"
      ],
      "metadata": {
        "id": "g2XjRpx2UPab"
      },
      "execution_count": null,
      "outputs": []
    },
    {
      "cell_type": "code",
      "source": [
        "d=a+b+c"
      ],
      "metadata": {
        "id": "_JlSXYg9UTAD"
      },
      "execution_count": null,
      "outputs": []
    },
    {
      "cell_type": "code",
      "source": [
        "data = pd.concat([a,b,c,d], axis=1, keys=('Entering','Leaving','Within','Work Trips 0-10 Miles')).rename_axis('Zone').reset_index()"
      ],
      "metadata": {
        "id": "DFJU44VjUUvD"
      },
      "execution_count": null,
      "outputs": []
    },
    {
      "cell_type": "code",
      "source": [
        "print (data)"
      ],
      "metadata": {
        "colab": {
          "base_uri": "https://localhost:8080/"
        },
        "id": "J5wmXbqAUW4d",
        "outputId": "d6240cf6-003c-44ee-cad7-9ffb1ee9d469"
      },
      "execution_count": null,
      "outputs": [
        {
          "output_type": "stream",
          "name": "stdout",
          "text": [
            "                                  Zone  Entering  Leaving     Within  \\\n",
            "0                      AK-NonMSA areas      4122     5048   34477259   \n",
            "1                 AL-NonMSA areas (NE)   4301174  4369622  102501552   \n",
            "2                 AL-NonMSA areas (NW)   1292909  1350024   46667111   \n",
            "3                 AL-NonMSA areas (SE)    579013   575787   19956240   \n",
            "4                 AL-NonMSA areas (SW)   1830521  1917801   85438424   \n",
            "..                                 ...       ...      ...        ...   \n",
            "521                    Yanceyville, NC    359318   400664    2272366   \n",
            "522                   York-Hanover, PA   5361449  5882045   94896915   \n",
            "523  Youngstown-Warren-Boardman, OH-PA   2935792  2911810  124170443   \n",
            "524                      Yuba City, CA    400835   414209   47681697   \n",
            "525                           Yuma, AZ   1220770  1063804   65770655   \n",
            "\n",
            "     Work Trips 0-10 Miles  \n",
            "0                 34486429  \n",
            "1                111172348  \n",
            "2                 49310044  \n",
            "3                 21111040  \n",
            "4                 89186746  \n",
            "..                     ...  \n",
            "521                3032348  \n",
            "522              106140409  \n",
            "523              130018045  \n",
            "524               48496741  \n",
            "525               68055229  \n",
            "\n",
            "[526 rows x 5 columns]\n"
          ]
        }
      ]
    }
  ]
}