{
  "nbformat": 4,
  "nbformat_minor": 0,
  "metadata": {
    "colab": {
      "provenance": [],
      "mount_file_id": "1wc2qOfqUsijw39m9k_ND_f8acLdsjnHh",
      "authorship_tag": "ABX9TyMelRkHEZjp4F5+lC7IoqPZ",
      "include_colab_link": true
    },
    "kernelspec": {
      "name": "python3",
      "display_name": "Python 3"
    },
    "language_info": {
      "name": "python"
    }
  },
  "cells": [
    {
      "cell_type": "markdown",
      "metadata": {
        "id": "view-in-github",
        "colab_type": "text"
      },
      "source": [
        "<a href=\"https://colab.research.google.com/github/atifanindarahman/OD_X-Minute-City/blob/main/OD_Aggregate_Mode_Vehicle.ipynb\" target=\"_parent\"><img src=\"https://colab.research.google.com/assets/colab-badge.svg\" alt=\"Open In Colab\"/></a>"
      ]
    },
    {
      "cell_type": "code",
      "execution_count": null,
      "metadata": {
        "id": "ijERSjWtd3Vc"
      },
      "outputs": [],
      "source": [
        "import pandas as pd"
      ]
    },
    {
      "cell_type": "code",
      "source": [
        "file_path = \"/content/drive/MyDrive/2022_Passenger_OD_Annual_Data_all.csv\""
      ],
      "metadata": {
        "id": "yFKYXKae3Ju6"
      },
      "execution_count": null,
      "outputs": []
    },
    {
      "cell_type": "code",
      "source": [
        "data = pd.read_csv(file_path)"
      ],
      "metadata": {
        "id": "rmNAFL583FZ6"
      },
      "execution_count": null,
      "outputs": []
    },
    {
      "cell_type": "code",
      "source": [
        "within_trips = data[data['origin_zone_name'] == data['destination_zone_name']]"
      ],
      "metadata": {
        "id": "y3vpXId83xNB"
      },
      "execution_count": null,
      "outputs": []
    },
    {
      "cell_type": "code",
      "source": [
        "c= within_trips.groupby('origin_zone_name')['mode_vehicle'].sum()"
      ],
      "metadata": {
        "id": "knIHHg-Y31IJ"
      },
      "execution_count": null,
      "outputs": []
    },
    {
      "cell_type": "code",
      "source": [
        "entry_exit_trips = data[data['origin_zone_name'] != data['destination_zone_name']]"
      ],
      "metadata": {
        "id": "zUrPzMC84YVO"
      },
      "execution_count": null,
      "outputs": []
    },
    {
      "cell_type": "code",
      "source": [
        "a = entry_exit_trips.groupby('destination_zone_name')['mode_vehicle'].sum()\n",
        "b = entry_exit_trips.groupby('origin_zone_name')['mode_vehicle'].sum()"
      ],
      "metadata": {
        "id": "QQ04trX34ZhV"
      },
      "execution_count": null,
      "outputs": []
    },
    {
      "cell_type": "code",
      "source": [
        "d=a+b+c"
      ],
      "metadata": {
        "id": "9CadOE8R4dQe"
      },
      "execution_count": null,
      "outputs": []
    },
    {
      "cell_type": "code",
      "source": [
        "data = pd.concat([a,b,c,d], axis=1, keys=('Entering','Leaving','Within','Total Trips Vehicle')).rename_axis('Zone').reset_index()"
      ],
      "metadata": {
        "id": "EDVzCT-f4fUu"
      },
      "execution_count": null,
      "outputs": []
    },
    {
      "cell_type": "code",
      "source": [
        "print (data)"
      ],
      "metadata": {
        "colab": {
          "base_uri": "https://localhost:8080/"
        },
        "id": "jSKuh6Cl4owf",
        "outputId": "38e815ea-3133-4006-c26c-deb3526e9f18"
      },
      "execution_count": null,
      "outputs": [
        {
          "output_type": "stream",
          "name": "stdout",
          "text": [
            "                                  Zone  Entering   Leaving     Within  \\\n",
            "0                      AK-NonMSA areas   1923634   2386590  116345950   \n",
            "1                 AL-NonMSA areas (NE)  73142690  76753777  398386602   \n",
            "2                 AL-NonMSA areas (NW)  29785711  32110123  181316262   \n",
            "3                 AL-NonMSA areas (SE)  16097213  16178145   71491990   \n",
            "4                 AL-NonMSA areas (SW)  44764368  48235309  333765729   \n",
            "..                                 ...       ...       ...        ...   \n",
            "521                    Yanceyville, NC   5281520   7327838    8381504   \n",
            "522                   York-Hanover, PA  60783711  68220670  325854728   \n",
            "523  Youngstown-Warren-Boardman, OH-PA  46640399  46259613  467421415   \n",
            "524                      Yuba City, CA  28048155  28849916  171931421   \n",
            "525                           Yuma, AZ  11328623   9058099  222609165   \n",
            "\n",
            "     Mode_Vehicle  \n",
            "0       120656174  \n",
            "1       548283069  \n",
            "2       243212096  \n",
            "3       103767348  \n",
            "4       426765406  \n",
            "..            ...  \n",
            "521      20990862  \n",
            "522     454859109  \n",
            "523     560321427  \n",
            "524     228829492  \n",
            "525     242995887  \n",
            "\n",
            "[526 rows x 5 columns]\n"
          ]
        }
      ]
    }
  ]
}